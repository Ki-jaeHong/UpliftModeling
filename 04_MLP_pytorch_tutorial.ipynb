{
  "nbformat": 4,
  "nbformat_minor": 0,
  "metadata": {
    "colab": {
      "name": "MLP_Pytorch_Tutorial",
      "version": "0.3.2",
      "provenance": [],
      "collapsed_sections": []
    },
    "kernelspec": {
      "name": "python3",
      "display_name": "Python 3"
    }
  },
  "cells": [
    {
      "cell_type": "markdown",
      "metadata": {
        "id": "mIhpYOtKBfrO",
        "colab_type": "text"
      },
      "source": [
        "# MLP Pytorch Tutorial\n"
      ]
    },
    {
      "cell_type": "markdown",
      "metadata": {
        "id": "TRAijQucBkE9",
        "colab_type": "text"
      },
      "source": [
        "---\n",
        "### Introduction ###\n",
        "In this exercise, you will classify Fisher's `Iris` dataset by using Pytorch. This dataset data set is a multivariate data set introduced by the British statistician and biologist Ronald Fisher in his 1936 paper.\n",
        "\n",
        "The data set consists of 50 samples from each of three species of Iris (Iris setosa, Iris virginica and Iris versicolor). Four features were measured from each sample: the length and the width of the sepals and petals, in centimeters."
      ]
    },
    {
      "cell_type": "markdown",
      "metadata": {
        "id": "oPopKCa8CUP4",
        "colab_type": "text"
      },
      "source": [
        "--- \n",
        "### Importing various libraries \n",
        "\n",
        "We import `DataLoader` here. By using the `DataLoader` library, we can easily shuffles our data and loads data in batches according to the `batch_size` you specified.\n",
        "~~~ python\n",
        "import numpy as np\n",
        "import matplotlib.pyplot as plt\n",
        "import torch\n",
        "from torch.utils.data import DataLoader\n",
        "~~~"
      ]
    },
    {
      "cell_type": "code",
      "metadata": {
        "id": "rwRRGBjL4dVN",
        "colab_type": "code",
        "colab": {}
      },
      "source": [
        "import numpy as np\n",
        "import matplotlib.pyplot as plt\n",
        "import torch\n",
        "from torch.utils.data import Dataset, DataLoader"
      ],
      "execution_count": 0,
      "outputs": []
    },
    {
      "cell_type": "markdown",
      "metadata": {
        "id": "6MKp2KZmK7St",
        "colab_type": "text"
      },
      "source": [
        "### Load Data"
      ]
    },
    {
      "cell_type": "code",
      "metadata": {
        "id": "OaXzUWPy7SiS",
        "colab_type": "code",
        "colab": {}
      },
      "source": [
        "# Authenticate and create the PyDrive client.\n",
        "!pip install -U -q PyDrive\n",
        "from pydrive.auth import GoogleAuth\n",
        "from pydrive.drive import GoogleDrive\n",
        "from google.colab import auth\n",
        "from oauth2client.client import GoogleCredentials\n",
        "\n",
        "auth.authenticate_user()\n",
        "gauth = GoogleAuth()\n",
        "gauth.credentials = GoogleCredentials.get_application_default()\n",
        "drive = GoogleDrive(gauth)"
      ],
      "execution_count": 0,
      "outputs": []
    },
    {
      "cell_type": "code",
      "metadata": {
        "id": "ehi1150I7fxN",
        "colab_type": "code",
        "colab": {}
      },
      "source": [
        "import pandas as pd\n",
        "link_iris = 'https://drive.google.com/open?id=1LP7W5xCIFuoi6kUHDNzMUbYr57Efrnf_'\n",
        "fluff, id = link_iris.split('=')\n",
        "downloaded = drive.CreateFile({'id':id})\n",
        "downloaded.GetContentFile('Iris.csv')\n",
        "iris_df = pd.read_csv('Iris.csv')"
      ],
      "execution_count": 0,
      "outputs": []
    },
    {
      "cell_type": "markdown",
      "metadata": {
        "id": "QXPeCwBaCoun",
        "colab_type": "text"
      },
      "source": [
        "### DataLoader\n",
        "1. Split the dataset into training and test dataset\n",
        "\n",
        "2. Make custom `Dataset`\n"
      ]
    },
    {
      "cell_type": "code",
      "metadata": {
        "id": "6snonzspFCtz",
        "colab_type": "code",
        "colab": {}
      },
      "source": [
        "from sklearn.model_selection import train_test_split\n",
        "\n",
        "iris_df['label'] = iris_df['species'].astype('category').cat.codes\n",
        "iris_df.drop(['species'], axis=1, inplace=True)\n",
        "train_df, test_df = train_test_split(iris_df, test_size=0.3, random_state=1)"
      ],
      "execution_count": 0,
      "outputs": []
    },
    {
      "cell_type": "code",
      "metadata": {
        "id": "ZoNrZI5P80wJ",
        "colab_type": "code",
        "colab": {}
      },
      "source": [
        "X_train = torch.tensor(train_df.drop(['label'], axis=1).values, dtype=torch.float32)\n",
        "Y_train = torch.tensor(train_df['label'].values, dtype=torch.long)\n",
        "X_test = torch.tensor(test_df.drop(['label'], axis=1).values, dtype=torch.float32)\n",
        "Y_test = torch.tensor(test_df['label'].values, dtype=torch.long)"
      ],
      "execution_count": 0,
      "outputs": []
    },
    {
      "cell_type": "code",
      "metadata": {
        "id": "qzmnKNyNLfCT",
        "colab_type": "code",
        "colab": {}
      },
      "source": [
        "class CustomDataset(Dataset):\n",
        "    def __init__(self, x_data, y_data):\n",
        "        assert(len(x_data) == len(y_data))\n",
        "        self.x_data = x_data\n",
        "        self.y_data = y_data\n",
        "\n",
        "    def __getitem__(self, index):\n",
        "        return self.x_data[index], self.y_data[index]\n",
        "\n",
        "    def __len__(self):\n",
        "        return len(self.x_data)\n",
        "      \n",
        "train_dataset = CustomDataset(X_train, Y_train)\n",
        "test_dataset = CustomDataset(X_test, Y_test)"
      ],
      "execution_count": 0,
      "outputs": []
    },
    {
      "cell_type": "markdown",
      "metadata": {
        "id": "UucYJV0VLbhP",
        "colab_type": "text"
      },
      "source": [
        "3. Define `loader_train` and `loader_test` to load the dataset.\n",
        "~~~ python\n",
        "batch_size = 4\n",
        "loader_train = DataLoader(train, batch_size=batch_size, shuffle=True)\n",
        "loader_test = DataLoader(test, batch_size=batch_size, shuffle=True)\n",
        "~~~"
      ]
    },
    {
      "cell_type": "code",
      "metadata": {
        "id": "dysuBzXAGuPz",
        "colab_type": "code",
        "colab": {}
      },
      "source": [
        "batch_size = 4\n",
        "loader_train = DataLoader(train_dataset, batch_size=batch_size, shuffle=True)\n",
        "loader_test = DataLoader(test_dataset, batch_size=batch_size, shuffle=True)"
      ],
      "execution_count": 0,
      "outputs": []
    },
    {
      "cell_type": "markdown",
      "metadata": {
        "id": "Ivm1YD_QG0On",
        "colab_type": "text"
      },
      "source": [
        "---\n",
        "### Model\n",
        "\n",
        "We introduce a sample model for you. \n",
        "\n",
        "* Sample Model\n",
        "    * Linear layer (input: 4, output: 5)\n",
        "    * Sigmoid activation function\n",
        "    * Linear layer (input: 5, output: 3)\n",
        "    * Cross Entropy Loss function\n",
        "    \n",
        "The first `Linear layer` has `input: 4` because of 4 input features. The second `Linear layer` has `output: 3` because Fisher's `Iris` dataset has 3 classes.\n",
        "\n",
        "Implement the following pytorch neural network model.\n",
        "\n",
        "~~~ python\n",
        "class Model(torch.nn.Module):\n",
        "    def __init__(self):\n",
        "        super(Model, self).__init__()\n",
        "        self.linear = torch.nn.Linear(4, 5)\n",
        "        self.linear2 = torch.nn.Linear(5, 3)\n",
        "        self.activ = torch.nn.Sigmoid()\n",
        "\n",
        "    def forward(self, x):\n",
        "        return self.linear2(self.activ(self.linear(x)))\n",
        "    \n",
        "model = Model()\n",
        "~~~\n",
        "\n",
        "or\n",
        "\n",
        "~~~ python\n",
        "model = torch.nn.Sequential(\n",
        "    torch.nn.Linear(4, 5),\n",
        "    torch.nn.Sigmoid(),\n",
        "    torch.nn.Linear(5, 3)\n",
        ")\n",
        "~~~"
      ]
    },
    {
      "cell_type": "code",
      "metadata": {
        "id": "tgVKOkkU-TjX",
        "colab_type": "code",
        "colab": {}
      },
      "source": [
        "class Model(torch.nn.Module):\n",
        "    def __init__(self):\n",
        "        super(Model, self).__init__()\n",
        "        self.linear = torch.nn.Linear(4, 5)\n",
        "        self.linear2 = torch.nn.Linear(5, 3)\n",
        "        self.activ = torch.nn.Sigmoid()\n",
        "\n",
        "    def forward(self, x):\n",
        "        return self.linear2(self.activ(self.linear(x)))\n",
        "    \n",
        "model = Model()"
      ],
      "execution_count": 0,
      "outputs": []
    },
    {
      "cell_type": "code",
      "metadata": {
        "id": "GtV_QxpPEgH8",
        "colab_type": "code",
        "colab": {}
      },
      "source": [
        "model = torch.nn.Sequential(\n",
        "    torch.nn.Linear(4, 5),\n",
        "    torch.nn.Sigmoid(),\n",
        "    torch.nn.Linear(5, 3)\n",
        ")\n"
      ],
      "execution_count": 0,
      "outputs": []
    },
    {
      "cell_type": "markdown",
      "metadata": {
        "id": "X787bHBLJTIU",
        "colab_type": "text"
      },
      "source": [
        "---\n",
        "### Cost Function and Optimizer\n",
        "\n",
        "As mentioned, you use `CrossEntropyLoss` for cost function(lossfn), and use `SGD` for optimizer.\n",
        "\n",
        "~~~ python\n",
        "lossfn = torch.nn.CrossEntropyLoss()\n",
        "optimizer = torch.optim.SGD(model.parameters(), lr=0.01)\n",
        "~~~"
      ]
    },
    {
      "cell_type": "code",
      "metadata": {
        "id": "HRLEvRXJFkBQ",
        "colab_type": "code",
        "colab": {}
      },
      "source": [
        "# Practice Here!\n",
        "lossfn = torch.nn.CrossEntropyLoss()\n",
        "optimizer = torch.optim.SGD(model.parameters(), lr=0.01)"
      ],
      "execution_count": 0,
      "outputs": []
    },
    {
      "cell_type": "markdown",
      "metadata": {
        "id": "XDEBDeT1JZqk",
        "colab_type": "text"
      },
      "source": [
        "---\n",
        "### Training\n",
        "\n",
        "The training process is as follows:\n",
        "\n",
        "* For each epoch\n",
        "    * For each batch\n",
        "        1. Calculate score from your model\n",
        "        2. Calculate loss with loss function\n",
        "        3. Initialize gradient of optimizer\n",
        "        4. Do backward path with loss\n",
        "        5. Step optimizer and update gradient\n",
        "\n",
        "`cost` is used to store and visualize the losses that calculated in each batch. You iterate `loader_train` and access `coordiates` and `label`. The size of `coordinates` will be `(batch_size, 2)` because of x-coordinate and y-coordinate, and the size of `label` will be `(batch_size)`.\n",
        "~~~ python\n",
        "cost = []\n",
        "def train(model, loader_train, loss_fn, optimizer, num_epochs=1):\n",
        "    for epoch in range(num_epochs):\n",
        "        for coordinates, label in loader_train:\n",
        "            # 1. Calculate score from your model\n",
        "            label_hat = model(coordinates)\n",
        "            # 2. Calculate loss with loss function\n",
        "            loss = lossfn(label_hat, label)\n",
        "            # 3. Initialize gradient of optimizer\n",
        "            optimizer.zero_grad()\n",
        "            # 4. Do backward path with loss\n",
        "            loss.backward()\n",
        "            # 5. Step optimizer and update gradient\n",
        "            optimizer.step()\n",
        "            \n",
        "            cost.append(loss)\n",
        "        if (epoch + 1) % (num_epochs / 10) == 0:\n",
        "            print('Epoch = %d, loss = %.4f' % (epoch + 1, cost[-1]))\n",
        "~~~"
      ]
    },
    {
      "cell_type": "code",
      "metadata": {
        "id": "_123fkgbFu9a",
        "colab_type": "code",
        "colab": {}
      },
      "source": [
        "cost = []\n",
        "def train(model, loader_train, loss_fn, optimizer, num_epochs=1):\n",
        "    for epoch in range(num_epochs):\n",
        "        for coordinates, label in loader_train:\n",
        "            label_hat = model(coordinates)\n",
        "            loss = lossfn(label_hat, label)\n",
        "            optimizer.zero_grad()\n",
        "            loss.backward()\n",
        "            optimizer.step()\n",
        "            cost.append(loss)\n",
        "        if (epoch + 1) % (num_epochs / 10) == 0:\n",
        "            print('Epoch = %d, loss = %.4f' % (epoch + 1, cost[-1]))"
      ],
      "execution_count": 0,
      "outputs": []
    },
    {
      "cell_type": "markdown",
      "metadata": {
        "id": "NZum-ydlJwPH",
        "colab_type": "text"
      },
      "source": [
        "---\n",
        "### Test your Result ###\n",
        "\n",
        "Check your implementation with this code. You should see the cost(loss) is decreasing and the test result is well classified about `97%` accuracy.\n",
        "~~~ python\n",
        "def check_accuracy(model, loader_test):\n",
        "    num_correct = 0\n",
        "    num_samples = 0\n",
        "    model.eval()\n",
        "    for x, y in loader_test:\n",
        "        scores = model(x)\n",
        "        _, preds = scores.max(1)\n",
        "        num_correct += (preds == y).sum()\n",
        "        num_samples += preds.size(0)\n",
        "    acc = float(num_correct) / num_samples\n",
        "    print('Got %d / %d correct (%.2f)' % (num_correct, num_samples, 100 * acc))\n",
        "\n",
        "train(model, loader_train, lossfn, optimizer, num_epochs=400)\n",
        "check_accuracy(model, loader_test)\n",
        "plt.plot(cost)\n",
        "plt.show()\n",
        "~~~"
      ]
    },
    {
      "cell_type": "code",
      "metadata": {
        "id": "mOQe2uiRGOwF",
        "colab_type": "code",
        "outputId": "c8ad76ba-d400-49fd-edb1-8235fa03c7b2",
        "colab": {
          "base_uri": "https://localhost:8080/",
          "height": 459
        }
      },
      "source": [
        "def check_accuracy(model, loader_test):\n",
        "    num_correct = 0\n",
        "    num_samples = 0\n",
        "    model.eval()\n",
        "    for x, y in loader_test:\n",
        "        scores = model(x)\n",
        "        _, preds = scores.max(1)\n",
        "        num_correct += (preds == y).sum()\n",
        "        num_samples += preds.size(0)\n",
        "    acc = float(num_correct) / num_samples\n",
        "    print('Got %d / %d correct (%.2f)' % (num_correct, num_samples, 100 * acc))\n",
        "\n",
        "train(model, loader_train, lossfn, optimizer, num_epochs=400)\n",
        "check_accuracy(model, loader_test)\n",
        "plt.plot(cost)\n",
        "plt.show()"
      ],
      "execution_count": 83,
      "outputs": [
        {
          "output_type": "stream",
          "text": [
            "Epoch = 40, loss = 1.0137\n",
            "Epoch = 80, loss = 0.5052\n",
            "Epoch = 120, loss = 0.4910\n",
            "Epoch = 160, loss = 0.2551\n",
            "Epoch = 200, loss = 0.5557\n",
            "Epoch = 240, loss = 0.0621\n",
            "Epoch = 280, loss = 0.1425\n",
            "Epoch = 320, loss = 1.7155\n",
            "Epoch = 360, loss = 0.0339\n",
            "Epoch = 400, loss = 0.0837\n",
            "Got 44 / 45 correct (97.78)\n"
          ],
          "name": "stdout"
        },
        {
          "output_type": "display_data",
          "data": {
            "image/png": "[encoded data removed]",
            "text/plain": [
              "<Figure size 432x288 with 1 Axes>"
            ]
          },
          "metadata": {
            "tags": []
          }
        }
      ]
    },
    {
      "cell_type": "code",
      "metadata": {
        "id": "o9X42GUaj-UX",
        "colab_type": "code",
        "colab": {}
      },
      "source": [
        ""
      ],
      "execution_count": 0,
      "outputs": []
    }
  ]
}