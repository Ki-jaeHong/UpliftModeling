{
  "nbformat": 4,
  "nbformat_minor": 0,
  "metadata": {
    "kernelspec": {
      "display_name": "Python 3",
      "language": "python",
      "name": "python3"
    },
    "language_info": {
      "codemirror_mode": {
        "name": "ipython",
        "version": 3
      },
      "file_extension": ".py",
      "mimetype": "text/x-python",
      "name": "python",
      "nbconvert_exporter": "python",
      "pygments_lexer": "ipython3",
      "version": "3.6.5"
    },
    "colab": {
      "name": "02-pandas.ipynb",
      "version": "0.3.2",
      "provenance": []
    }
  },
  "cells": [
    {
      "cell_type": "markdown",
      "metadata": {
        "id": "4VNdjAYR6bqI",
        "colab_type": "text"
      },
      "source": [
        "# Pandas Tutorial"
      ]
    },
    {
      "cell_type": "markdown",
      "metadata": {
        "id": "aAiBZDQk6bqJ",
        "colab_type": "text"
      },
      "source": [
        "## Practice: Pandas Library   \n",
        "\n",
        "Basic pandas methods covered in class. All required codes are already written so that you can practice easily.  \n",
        "\n",
        "\n",
        "---\n",
        "__1. Import Pandas Library__  \n",
        "\n",
        "~~~ python\n",
        "import numpy as np\n",
        "import pandas as pd\n",
        "~~~"
      ]
    },
    {
      "cell_type": "code",
      "metadata": {
        "id": "U-cOwW_a6bqJ",
        "colab_type": "code",
        "colab": {}
      },
      "source": [
        "# Practice here!"
      ],
      "execution_count": 0,
      "outputs": []
    },
    {
      "cell_type": "markdown",
      "metadata": {
        "id": "KEsgKUlc6bqM",
        "colab_type": "text"
      },
      "source": [
        "---\n",
        "__2. Series (1d labeled numpy arrays)__\n",
        "\n",
        "* Creating a series\n",
        "\n",
        "~~~ python\n",
        "s = pd.Series(['one', 'two', 'three', 'four'],\n",
        "             index=[1, 2, 1, 2])      \n",
        "\n",
        "~~~\n",
        "\n",
        "* Attributes\n",
        "\n",
        "~~~ python\n",
        "print(\"shape = \", s.shpae)        \n",
        "print(\"dtype = \", s.dtype)        \n",
        "print(\"size = \", s.size)          \n",
        "print(\"ndim = \", s.ndim)\n",
        "  \n",
        "~~~"
      ]
    },
    {
      "cell_type": "code",
      "metadata": {
        "id": "DYPBMaVv6bqN",
        "colab_type": "code",
        "colab": {}
      },
      "source": [
        "# Practice here!"
      ],
      "execution_count": 0,
      "outputs": []
    },
    {
      "cell_type": "markdown",
      "metadata": {
        "id": "0DrPZkxY6bqO",
        "colab_type": "text"
      },
      "source": [
        "---\n",
        "__3. DataFrame (2d tables with row and column labels)__\n",
        "\n",
        "* Creating a DataFrame\n",
        "\n",
        "~~~ python\n",
        "df1 = pd.DataFrame(np.arange(12).reshape(4,3),\n",
        "                  index=s,\n",
        "                  columns=['a', 'b', 'c'],\n",
        "                  dtype=np.float32)\n",
        "df2 = pd.DataFrame({\n",
        "  'key1': ['a', 'a', 'b', 'b', 'a'],\n",
        "  'key2': ['one', 'two', 'one', 'two', 'one'],\n",
        "  'data1': np.random.randn(5),\n",
        "  'data2': np.random.randn(5)\n",
        "})\n",
        "print(df['key1'])\n",
        "~~~\n"
      ]
    },
    {
      "cell_type": "code",
      "metadata": {
        "id": "nn75P2QN6bqP",
        "colab_type": "code",
        "colab": {}
      },
      "source": [
        "# Practice here!"
      ],
      "execution_count": 0,
      "outputs": []
    },
    {
      "cell_type": "markdown",
      "metadata": {
        "id": "2J_eEvIR6bqR",
        "colab_type": "text"
      },
      "source": [
        "---\n",
        "__4. Index__\n",
        "\n",
        "* Hierarchical indexes\n",
        "\n",
        "~~~ python     \n",
        "s = pd.Series(['one', 'two', 'three', 'four'],\n",
        "             index=[[1,1,2,2], ['a', 'a', 'b', 'a']])\n",
        "~~~\n"
      ]
    },
    {
      "cell_type": "code",
      "metadata": {
        "id": "c5LwdTEs6bqR",
        "colab_type": "code",
        "colab": {}
      },
      "source": [
        "# Practice here!"
      ],
      "execution_count": 0,
      "outputs": []
    },
    {
      "cell_type": "markdown",
      "metadata": {
        "id": "E0BUKFkV6bqT",
        "colab_type": "text"
      },
      "source": [
        "---\n",
        "__5. Data Alignment__\n",
        "\n",
        "\n",
        "~~~ python\n",
        "df1 = pd.DataFrame(np.arange(15).reshape(5, 3),\n",
        "                  index=['a', 'b', 'c', 'd', 'e'],\n",
        "                  columns=['A', 'B', 'C'],\n",
        "                  dtype=np.float32)\n",
        "df2 = pd.DataFrame(np.ones((7, 2)),\n",
        "                  index=['a', 'b', 'c', 'd', 'e', 'f', 'g'],\n",
        "                  columns=['A', 'B'],\n",
        "                  dtype=np.float32)\n",
        "print(df1)\n",
        "print(df2)\n",
        "print(df1 + df2)\n",
        "~~~\n"
      ]
    },
    {
      "cell_type": "code",
      "metadata": {
        "id": "O97t8jae6bqU",
        "colab_type": "code",
        "colab": {}
      },
      "source": [
        "# Practice here!"
      ],
      "execution_count": 0,
      "outputs": []
    },
    {
      "cell_type": "markdown",
      "metadata": {
        "id": "Qe2RS-4V6bqb",
        "colab_type": "text"
      },
      "source": [
        "---\n",
        "## Exercise: Tip data\n",
        "\n",
        "~~~python\n",
        "!pip install -U -q PyDrive\n",
        "from pydrive.auth import GoogleAuth\n",
        "from pydrive.drive import GoogleDrive\n",
        "from google.colab import auth\n",
        "from oauth2client.client import GoogleCredentials\n",
        "\n",
        "\n",
        "auth.authenticate_user()\n",
        "gauth = GoogleAuth()\n",
        "gauth.credentials = GoogleCredentials.get_application_default()\n",
        "drive = GoogleDrive(gauth)\n",
        "link = 'https://drive.google.com/open?id=17So-kLcf--NclxicAYr8IWRol488hIIh'\n",
        "fluff, id = link.split('=')\n",
        "\n",
        "downloaded = drive.CreateFile({'id':id})\n",
        "downloaded.GetContentFile('tips.csv')\n",
        "\n",
        "~~~"
      ]
    },
    {
      "cell_type": "code",
      "metadata": {
        "id": "Q0xRTwmS6bqW",
        "colab_type": "code",
        "colab": {}
      },
      "source": [
        "# Practice here!"
      ],
      "execution_count": 0,
      "outputs": []
    },
    {
      "cell_type": "markdown",
      "metadata": {
        "id": "Gr1MucxX6bqW",
        "colab_type": "text"
      },
      "source": [
        "---\n",
        "__6. GroupBy__\n",
        "\n",
        "* GroupBy object\n",
        "\n",
        "~~~ python \n",
        "tips = pd.read_csv('tips.csv')\n",
        "tips['tip_pct'] = tips['tip'] / tips['total_bill']\n",
        "print(tips[:6])\n",
        "grouped = tips.groupby('size')\n",
        "~~~\n",
        "* GroupBy using array, function\n",
        "\n",
        "~~~ python \n",
        "array = tips['size'] < 4\n",
        "function = lambda x: x%10\n",
        "grouped  =tips.groupby([array, function])\n",
        "~~~\n"
      ]
    },
    {
      "cell_type": "code",
      "metadata": {
        "id": "VH3e3-Vb6bqc",
        "colab_type": "code",
        "colab": {}
      },
      "source": [
        "# Practice here!   "
      ],
      "execution_count": 0,
      "outputs": []
    },
    {
      "cell_type": "markdown",
      "metadata": {
        "id": "bejtEYGiNYox",
        "colab_type": "text"
      },
      "source": [
        "\n",
        "* Iterate\n",
        "\n",
        "~~~ python \n",
        "for key, group in tips.groupby('time'):\n",
        "  print('    key: ', key)\n",
        "  print(group[:3])  #  pandas.DataFrame type\n",
        "~~~\n",
        "* Agg\n",
        "\n",
        "~~~ python \n",
        "tips.groupby('time').agg('mean')\n",
        "\n",
        "peak2peak = lambda x: x.max() - x.min()\n",
        "tips.groupby('time').agg(peak2peak)\n",
        "~~~\n"
      ]
    },
    {
      "cell_type": "code",
      "metadata": {
        "id": "u15gPm48NYUx",
        "colab_type": "code",
        "colab": {}
      },
      "source": [
        ""
      ],
      "execution_count": 0,
      "outputs": []
    },
    {
      "cell_type": "markdown",
      "metadata": {
        "id": "i8_-wJrgNg9a",
        "colab_type": "text"
      },
      "source": [
        "* Transform\n",
        "\n",
        "~~~ python \n",
        "transformed = tips.groupby('size').transform(np.mean)\n",
        "\n",
        "tips['tip'] = tips['tip'].groupby('size').transform(np.mean)\n",
        "~~~\n",
        "* Apply\n",
        "\n",
        "~~~ python \n",
        "def top(frame, n=5, column='tip_pct'):\n",
        "  return frame.sort_values(by=column, ascending=False)[:n]\n",
        "\n",
        "print(top(tips))\n",
        "print(tips.groupby('sex').apply(top, n=3))\n",
        "~~~"
      ]
    },
    {
      "cell_type": "code",
      "metadata": {
        "id": "b4u06rjtNgkX",
        "colab_type": "code",
        "colab": {}
      },
      "source": [
        ""
      ],
      "execution_count": 0,
      "outputs": []
    }
  ]
}