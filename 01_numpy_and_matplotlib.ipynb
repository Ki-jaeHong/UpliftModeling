{
  "nbformat": 4,
  "nbformat_minor": 0,
  "metadata": {
    "kernelspec": {
      "display_name": "Python 3",
      "language": "python",
      "name": "python3"
    },
    "language_info": {
      "codemirror_mode": {
        "name": "ipython",
        "version": 3
      },
      "file_extension": ".py",
      "mimetype": "text/x-python",
      "name": "python",
      "nbconvert_exporter": "python",
      "pygments_lexer": "ipython3",
      "version": "3.6.5"
    },
    "colab": {
      "name": "01-numpy-and-matplotlib.ipynb",
      "version": "0.3.2",
      "provenance": [],
      "collapsed_sections": []
    }
  },
  "cells": [
    {
      "cell_type": "markdown",
      "metadata": {
        "id": "4VNdjAYR6bqI",
        "colab_type": "text"
      },
      "source": [
        "# Numpy & Matplotlib Tutorial"
      ]
    },
    {
      "cell_type": "markdown",
      "metadata": {
        "id": "aAiBZDQk6bqJ",
        "colab_type": "text"
      },
      "source": [
        "## Practice: Numpy Library   \n",
        "\n",
        "Basic numpy methods covered in class. All required codes are already written so that you can practice easily.  \n",
        "\n",
        "---\n",
        "__1. Import Numpy Library__  \n",
        "\n",
        "~~~ python\n",
        "import numpy as np\n",
        "import numpy.random as npr\n",
        "~~~"
      ]
    },
    {
      "cell_type": "code",
      "metadata": {
        "id": "U-cOwW_a6bqJ",
        "colab_type": "code",
        "colab": {}
      },
      "source": [
        "# Practice here!"
      ],
      "execution_count": 0,
      "outputs": []
    },
    {
      "cell_type": "markdown",
      "metadata": {
        "id": "KEsgKUlc6bqM",
        "colab_type": "text"
      },
      "source": [
        "---\n",
        "__2. Vectors (1d arrays)__\n",
        "\n",
        "* Creating an array\n",
        "\n",
        "~~~ python\n",
        "a = np.array([1, 2, 3, 4])        \n",
        "~~~\n",
        "\n",
        "* Attributes\n",
        "\n",
        "~~~ python\n",
        "print(\"shape = \", a.shpae)        \n",
        "print(\"dtype = \", a.dtype)        \n",
        "print(\"size = \", a.size)          \n",
        "print(\"ndim = \", a.ndim)         \n",
        "  \n",
        "~~~\n",
        "  \n",
        "* Useful methods creating an array:\n",
        "\n",
        "~~~ python\n",
        "np.zeros(4)                       \n",
        "np.ones(4)                        \n",
        "npr.randn(3)                      \n",
        "np.linspace(0, 2, 5)              \n",
        "np.arange(8)                      \n",
        "~~~"
      ]
    },
    {
      "cell_type": "code",
      "metadata": {
        "id": "DYPBMaVv6bqN",
        "colab_type": "code",
        "colab": {}
      },
      "source": [
        "# Practice here!"
      ],
      "execution_count": 0,
      "outputs": []
    },
    {
      "cell_type": "markdown",
      "metadata": {
        "id": "0DrPZkxY6bqO",
        "colab_type": "text"
      },
      "source": [
        "---\n",
        "__3. Matrices (2d arrays)__\n",
        "\n",
        "* Creating a 2d array\n",
        "\n",
        "~~~ python\n",
        "a = np.array([[1, 2, 3, 4], [-1, -2, -3, -4]])      \n",
        "np.zeros((3, 3))                                     \n",
        "np.ones((4, 2))                                      \n",
        "npr.randn(3, 3)                                      \n",
        "~~~\n",
        "\n",
        "* Reshaping\n",
        "\n",
        "~~~ python\n",
        "print(a.shape)\n",
        "print(a.T)                                           \n",
        "print(a.reshape(2, 2, 2))                            \n",
        "~~~\n"
      ]
    },
    {
      "cell_type": "code",
      "metadata": {
        "id": "nn75P2QN6bqP",
        "colab_type": "code",
        "colab": {}
      },
      "source": [
        "# Practice here!"
      ],
      "execution_count": 0,
      "outputs": []
    },
    {
      "cell_type": "markdown",
      "metadata": {
        "id": "2J_eEvIR6bqR",
        "colab_type": "text"
      },
      "source": [
        "---\n",
        "__4. Array Indexing__\n",
        "\n",
        "* Array slicing\n",
        "\n",
        "~~~ python     \n",
        "a = np.array([0, 1, 2, 3, 4])\n",
        "print a[2:4]                             \n",
        "\n",
        "b = np.arange(36).reshape(6, 6)          \n",
        "print(b)                                 \n",
        "print(b[0, 3:5])                         \n",
        "print(b[4:, 4:])\n",
        "print(b[:, :2])\n",
        "~~~\n",
        "\n",
        "* Indexing by position\n",
        "\n",
        "~~~ python\n",
        "a = np.arange(0, 80, 10)             \n",
        "print(\"a = \", a)\n",
        "indices = [1, 2, -3]                 \n",
        "y = a[indices]                     \n",
        "print(\"y = \", y)\n",
        "~~~\n",
        "\n",
        "* Indexing with booleans (masking)\n",
        "\n",
        "~~~ python\n",
        "a = np.arange(0, 80, 10)                                    \n",
        "mask = np.array([0, 1, 1, 0, 0, 1, 0, 0], dtype = bool)      \n",
        "y = a[mask]                                                  \n",
        "print(y)\n",
        "y = a[a > 20]                                               \n",
        "print(y)\n",
        "~~~\n",
        "\n",
        "* Indexing with newaxis\n",
        "\n",
        "~~~ python\n",
        "a = np.array([1, 2, 3])\n",
        "print(a)                                 \n",
        "print(a[np.newaxis,:])                  \n",
        "print(a[:, np.newaxis])                     \n",
        "print(a[np.newaxis, np.newaxis, :])     \n",
        "~~~"
      ]
    },
    {
      "cell_type": "code",
      "metadata": {
        "id": "c5LwdTEs6bqR",
        "colab_type": "code",
        "colab": {}
      },
      "source": [
        "# Practice here!"
      ],
      "execution_count": 0,
      "outputs": []
    },
    {
      "cell_type": "markdown",
      "metadata": {
        "id": "E0BUKFkV6bqT",
        "colab_type": "text"
      },
      "source": [
        "---\n",
        "__5. Mathematical Operations__\n",
        "\n",
        "* Summation\n",
        "\n",
        "~~~ python\n",
        "a = np.array([[1, 2, 3], [4, 5, 6]])  \n",
        "print(np.sum(a))                                  \n",
        "print(np.sum(a, axis = 0))                        \n",
        "print(np.sum(a, axis = 1))\n",
        "~~~\n",
        "\n",
        "* Product\n",
        "\n",
        "~~~ python\n",
        "a = np.array([[1, 2, 3], [4, 5, 6]])\n",
        "print(np.prod(a))                                  \n",
        "print(np.prod(a, axis = 0))                         \n",
        "print(a.prod(axis = 1))                            \n",
        "~~~\n",
        "\n",
        "* Dot product\n",
        "\n",
        "~~~ python\n",
        "print(np.array([1, 2, 3]).dot(np.array([4, 5, 6])))       \n",
        "a = np.array([[1, 1], [3, 2]])                           \n",
        "b = np.array([[4, 1], [2, 2]])\n",
        "print(a.dot(b))\n",
        "~~~\n",
        "\n",
        "* Min/max\n",
        "\n",
        "~~~ python\n",
        "a = np.array([[1, 2, 3], [4, 5, 6]])                     \n",
        "print(np.min(a))                                          \n",
        "print(np.min(a, axis = 0))                        \n",
        "print(a.min(axis = 1))                                   \n",
        "\n",
        "print(np.max(a))                                          \n",
        "\n",
        "print(np.argmin(a))                            \n",
        "print(np.argmax(a))                            \n",
        "~~~\n",
        "\n",
        "* Mean, standard deviation, variance\n",
        "\n",
        "~~~ python\n",
        "a = np.array([[1, 2, 3], [4, 5, 6]])                     \n",
        "print(a.mean(axis = 0))                                 \n",
        "print(a.std(axis = 0))                       \n",
        "print(a.var(axis = 0))                             \n",
        "~~~"
      ]
    },
    {
      "cell_type": "code",
      "metadata": {
        "id": "O97t8jae6bqU",
        "colab_type": "code",
        "colab": {}
      },
      "source": [
        "# Practice here!"
      ],
      "execution_count": 0,
      "outputs": []
    },
    {
      "cell_type": "markdown",
      "metadata": {
        "id": "Gr1MucxX6bqW",
        "colab_type": "text"
      },
      "source": [
        "---\n",
        "__6. Broadcasting__\n",
        "\n",
        "~~~ python \n",
        "a = np.array((0, 10, 20, 30))     \n",
        "b = np.array((0, 1, 2))\n",
        "y = a[:, np.newaxis] + b                            \n",
        "print(a[:, np.newaxis], \"+\", b, \"\\n=\\n\", y)\n",
        "~~~\n"
      ]
    },
    {
      "cell_type": "code",
      "metadata": {
        "id": "Q0xRTwmS6bqW",
        "colab_type": "code",
        "colab": {}
      },
      "source": [
        "# Practice here!"
      ],
      "execution_count": 0,
      "outputs": []
    },
    {
      "cell_type": "markdown",
      "metadata": {
        "id": "9jlc_mf06bqY",
        "colab_type": "text"
      },
      "source": [
        "---\n",
        "### Quiz.\n",
        "__Distances between cities of Route 66__  : A 1D array of distances to all cities in Route 66 from Chicago is given below:  \n",
        "`0(Chicago), 198, 303, 736, 871, 1175, 1475, 1544, 1913, 2488(Los Angeles)`  \n",
        "Construct a 2D array of distances between pairs of cities. You can use `np.abs(...)` here."
      ]
    },
    {
      "cell_type": "code",
      "metadata": {
        "id": "2Fzm4g4F6bqZ",
        "colab_type": "code",
        "colab": {}
      },
      "source": [
        "# Write your code here!\n",
        "# ans\n",
        "import numpy as np\n",
        "\n",
        "dist = np.array([0, 198, 303, 736, 871, 1175, 1475, 1544, 1913, 2488])\n",
        "print (dist[:, np.newaxis])\n",
        "dist2 = np.abs(dist - dist[:, np.newaxis])\n",
        "\n",
        "print (dist2)"
      ],
      "execution_count": 0,
      "outputs": []
    },
    {
      "cell_type": "markdown",
      "metadata": {
        "id": "Qe2RS-4V6bqb",
        "colab_type": "text"
      },
      "source": [
        "---\n",
        "## Practice: Matplotlib Library   \n",
        "\n",
        "Basic matplotlib methods covered in class. All required codes are already written so that you can practice easily.  \n",
        "\n",
        "---\n",
        "__1. Import Matplotlib Library__  \n",
        "\n",
        "~~~ python\n",
        "%matplotlib inline                                 \n",
        "\n",
        "import matplotlib.pyplot as plt      \n",
        "plt.rcParams['figure.figsize'] = (5.0, 4.0)        \n",
        "~~~"
      ]
    },
    {
      "cell_type": "code",
      "metadata": {
        "id": "VH3e3-Vb6bqc",
        "colab_type": "code",
        "colab": {}
      },
      "source": [
        "# Practice here!   "
      ],
      "execution_count": 0,
      "outputs": []
    },
    {
      "cell_type": "markdown",
      "metadata": {
        "id": "XXIebmTU6bqe",
        "colab_type": "text"
      },
      "source": [
        "---\n",
        "__2. Line Plot and Formatting__\n",
        "\n",
        "* Plot against indices\n",
        "\n",
        "~~~ python\n",
        "x = np.linspace(0, 2*np.pi, 50)\n",
        "plt.plot(np.sin(x))\n",
        "plt.show()\n",
        "~~~\n",
        "\n",
        "* Multiple datasets\n",
        "\n",
        "~~~ python\n",
        "plt.plot(x, np.sin(x), x, np.sin(2*x))\n",
        "plt.show()\n",
        "~~~\n",
        "\n",
        "* Line formatting\n",
        "\n",
        "~~~ python\n",
        "plt.plot(x, np.cos(x), 'b-o')\n",
        "plt.plot(x, np.sin(x), 'r--^')\n",
        "plt.plot(x, np.sin(2*x), 'g:s')\n",
        "plt.show()\n",
        "~~~\n",
        "\n",
        "* Scatter plot\n",
        "\n",
        "~~~ python\n",
        "plt.scatter(x, np.sin(x))\n",
        "plt.show()\n",
        "~~~\n",
        "\n",
        "* Legend\n",
        "\n",
        "~~~ python\n",
        "plt.plot(np.sin(x), label = 'sin')\n",
        "plt.plot(np.cos(x), label = 'cos')\n",
        "plt.show()\n",
        "\n",
        "# OR\n",
        "\n",
        "plt.plot(np.sin(x))\n",
        "plt.plot(np.cos(x))\n",
        "plt.legend(['sin', 'cos'])\n",
        "plt.show()\n",
        "~~~\n",
        "\n",
        "* Titles and grid\n",
        "\n",
        "~~~ python\n",
        "plt.plot(x, np.sin(x))\n",
        "plt.xlabel('radians')\n",
        "plt.ylabel('amplitude', fontsize = 'large')\n",
        "plt.title('sin(x)')\n",
        "plt.grid()\n",
        "~~~"
      ]
    },
    {
      "cell_type": "code",
      "metadata": {
        "id": "H7sta7la6bqf",
        "colab_type": "code",
        "colab": {}
      },
      "source": [
        "# Practice here!"
      ],
      "execution_count": 0,
      "outputs": []
    },
    {
      "cell_type": "markdown",
      "metadata": {
        "id": "PTdT3VDt6bqh",
        "colab_type": "text"
      },
      "source": [
        "---\n",
        "__3. Histograms__\n",
        "\n",
        "~~~ python\n",
        "plt.hist(npr.randn(1000))\n",
        "plt.hist(npr.randn(1000), 30)\n",
        "plt.show()\n",
        "~~~\n"
      ]
    },
    {
      "cell_type": "code",
      "metadata": {
        "id": "LQlc3FDa6bqi",
        "colab_type": "code",
        "colab": {}
      },
      "source": [
        "# Practice here!"
      ],
      "execution_count": 0,
      "outputs": []
    },
    {
      "cell_type": "markdown",
      "metadata": {
        "id": "zAvhXqOB6bqk",
        "colab_type": "text"
      },
      "source": [
        "---\n",
        "__4. Plot with Error Bars__\n",
        "\n",
        "~~~ python\n",
        "x = np.linspace(0, 2*np.pi, 10)\n",
        "y = np.sin(x)\n",
        "xerr = npr.rand(10)/3\n",
        "yerr = npr.rand(10)\n",
        "plt.errorbar(x, y, yerr, xerr)\n",
        "plt.show()\n",
        "~~~"
      ]
    },
    {
      "cell_type": "code",
      "metadata": {
        "id": "SK7EuBqP6bqk",
        "colab_type": "code",
        "colab": {}
      },
      "source": [
        "# Practice here!"
      ],
      "execution_count": 0,
      "outputs": []
    },
    {
      "cell_type": "markdown",
      "metadata": {
        "id": "LihHZYuf6bqm",
        "colab_type": "text"
      },
      "source": [
        "---\n",
        "__5. Color Bar__\n",
        "\n",
        "~~~ python\n",
        "a = np.linspace(0, 1, 15) - 0.5 \n",
        "b = a[:, np.newaxis]\n",
        "dist2 = a**2 + b**2\n",
        "dist = np.sqrt(dist2)\n",
        "plt.imshow(dist)\n",
        "plt.colorbar()\n",
        "plt.show()\n",
        "~~~"
      ]
    },
    {
      "cell_type": "code",
      "metadata": {
        "id": "xtNyxDHK6bqn",
        "colab_type": "code",
        "colab": {}
      },
      "source": [
        "# Practice here!"
      ],
      "execution_count": 0,
      "outputs": []
    },
    {
      "cell_type": "markdown",
      "metadata": {
        "id": "AFZwkPhG6bqo",
        "colab_type": "text"
      },
      "source": [
        "---\n",
        "### Quiz.\n",
        "__Distances between cities of Route 66__  : Draw a color bar, with the 2D distance array of previous example."
      ]
    },
    {
      "cell_type": "code",
      "metadata": {
        "id": "SukfgBo36bqp",
        "colab_type": "code",
        "colab": {}
      },
      "source": [
        "# Write your code here!"
      ],
      "execution_count": 0,
      "outputs": []
    },
    {
      "cell_type": "markdown",
      "metadata": {
        "id": "WcMo1J1K6bqr",
        "colab_type": "text"
      },
      "source": [
        " "
      ]
    }
  ]
}