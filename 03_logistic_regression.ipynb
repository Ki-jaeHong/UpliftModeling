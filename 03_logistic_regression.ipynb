{
  "nbformat": 4,
  "nbformat_minor": 0,
  "metadata": {
    "colab": {
      "name": "03-logistic-regression.ipynb",
      "version": "0.3.2",
      "provenance": [],
      "collapsed_sections": []
    },
    "kernelspec": {
      "name": "python3",
      "display_name": "Python 3"
    }
  },
  "cells": [
    {
      "cell_type": "code",
      "metadata": {
        "id": "u4rvbw4pRAZJ",
        "colab_type": "code",
        "colab": {}
      },
      "source": [
        "!pip install -U -q PyDrive\n",
        "from pydrive.auth import GoogleAuth\n",
        "from pydrive.drive import GoogleDrive\n",
        "from google.colab import auth\n",
        "from oauth2client.client import GoogleCredentials\n",
        "\n",
        "\n",
        "auth.authenticate_user()\n",
        "gauth = GoogleAuth()\n",
        "gauth.credentials = GoogleCredentials.get_application_default()\n",
        "drive = GoogleDrive(gauth)\n",
        "link = 'https://drive.google.com/open?id=1LP7W5xCIFuoi6kUHDNzMUbYr57Efrnf_'\n",
        "fluff, id = link.split('=')\n",
        "\n",
        "downloaded = drive.CreateFile({'id':id})\n",
        "downloaded.GetContentFile('iris.csv')"
      ],
      "execution_count": 0,
      "outputs": []
    },
    {
      "cell_type": "code",
      "metadata": {
        "id": "VbJN0ZTURsmO",
        "colab_type": "code",
        "colab": {
          "base_uri": "https://localhost:8080/",
          "height": 297
        },
        "outputId": "66d272f4-50cf-48e0-d300-b03fcfff455f"
      },
      "source": [
        "import numpy as np\n",
        "import pandas as pd\n",
        "\n",
        "### Read the dataset ###\n",
        "\n",
        "iris = pd.read_csv('iris.csv')\n",
        "print(iris[::20])"
      ],
      "execution_count": 83,
      "outputs": [
        {
          "output_type": "execute_result",
          "data": {
            "text/html": [
              "<div>\n",
              "<style scoped>\n",
              "    .dataframe tbody tr th:only-of-type {\n",
              "        vertical-align: middle;\n",
              "    }\n",
              "\n",
              "    .dataframe tbody tr th {\n",
              "        vertical-align: top;\n",
              "    }\n",
              "\n",
              "    .dataframe thead th {\n",
              "        text-align: right;\n",
              "    }\n",
              "</style>\n",
              "<table border=\"1\" class=\"dataframe\">\n",
              "  <thead>\n",
              "    <tr style=\"text-align: right;\">\n",
              "      <th></th>\n",
              "      <th>sp_length</th>\n",
              "      <th>sp_width</th>\n",
              "      <th>pt_length</th>\n",
              "      <th>pt_width</th>\n",
              "      <th>species</th>\n",
              "    </tr>\n",
              "  </thead>\n",
              "  <tbody>\n",
              "    <tr>\n",
              "      <th>0</th>\n",
              "      <td>5.1</td>\n",
              "      <td>3.5</td>\n",
              "      <td>1.4</td>\n",
              "      <td>0.2</td>\n",
              "      <td>Iris-setosa</td>\n",
              "    </tr>\n",
              "    <tr>\n",
              "      <th>20</th>\n",
              "      <td>5.4</td>\n",
              "      <td>3.4</td>\n",
              "      <td>1.7</td>\n",
              "      <td>0.2</td>\n",
              "      <td>Iris-setosa</td>\n",
              "    </tr>\n",
              "    <tr>\n",
              "      <th>40</th>\n",
              "      <td>5.0</td>\n",
              "      <td>3.5</td>\n",
              "      <td>1.3</td>\n",
              "      <td>0.3</td>\n",
              "      <td>Iris-setosa</td>\n",
              "    </tr>\n",
              "    <tr>\n",
              "      <th>60</th>\n",
              "      <td>5.0</td>\n",
              "      <td>2.0</td>\n",
              "      <td>3.5</td>\n",
              "      <td>1.0</td>\n",
              "      <td>Iris-versicolor</td>\n",
              "    </tr>\n",
              "    <tr>\n",
              "      <th>80</th>\n",
              "      <td>5.5</td>\n",
              "      <td>2.4</td>\n",
              "      <td>3.8</td>\n",
              "      <td>1.1</td>\n",
              "      <td>Iris-versicolor</td>\n",
              "    </tr>\n",
              "    <tr>\n",
              "      <th>100</th>\n",
              "      <td>6.3</td>\n",
              "      <td>3.3</td>\n",
              "      <td>6.0</td>\n",
              "      <td>2.5</td>\n",
              "      <td>Iris-virginica</td>\n",
              "    </tr>\n",
              "    <tr>\n",
              "      <th>120</th>\n",
              "      <td>6.9</td>\n",
              "      <td>3.2</td>\n",
              "      <td>5.7</td>\n",
              "      <td>2.3</td>\n",
              "      <td>Iris-virginica</td>\n",
              "    </tr>\n",
              "    <tr>\n",
              "      <th>140</th>\n",
              "      <td>6.7</td>\n",
              "      <td>3.1</td>\n",
              "      <td>5.6</td>\n",
              "      <td>2.4</td>\n",
              "      <td>Iris-virginica</td>\n",
              "    </tr>\n",
              "  </tbody>\n",
              "</table>\n",
              "</div>"
            ],
            "text/plain": [
              "     sp_length  sp_width  pt_length  pt_width          species\n",
              "0          5.1       3.5        1.4       0.2      Iris-setosa\n",
              "20         5.4       3.4        1.7       0.2      Iris-setosa\n",
              "40         5.0       3.5        1.3       0.3      Iris-setosa\n",
              "60         5.0       2.0        3.5       1.0  Iris-versicolor\n",
              "80         5.5       2.4        3.8       1.1  Iris-versicolor\n",
              "100        6.3       3.3        6.0       2.5   Iris-virginica\n",
              "120        6.9       3.2        5.7       2.3   Iris-virginica\n",
              "140        6.7       3.1        5.6       2.4   Iris-virginica"
            ]
          },
          "metadata": {
            "tags": []
          },
          "execution_count": 83
        }
      ]
    },
    {
      "cell_type": "code",
      "metadata": {
        "id": "CB-nlpHBRiHl",
        "colab_type": "code",
        "colab": {
          "base_uri": "https://localhost:8080/",
          "height": 170
        },
        "outputId": "2e60e634-e514-417d-fa64-1b705f61e9d3"
      },
      "source": [
        "### Make a new label column ###\n",
        "\n",
        "iris['label'] = (iris['species'] == \"Iris-virginica\")\n",
        "print(iris[::20])"
      ],
      "execution_count": 89,
      "outputs": [
        {
          "output_type": "stream",
          "text": [
            "     sp_length  sp_width  pt_length  pt_width          species  label\n",
            "0          5.1       3.5        1.4       0.2      Iris-setosa  False\n",
            "20         5.4       3.4        1.7       0.2      Iris-setosa  False\n",
            "40         5.0       3.5        1.3       0.3      Iris-setosa  False\n",
            "60         5.0       2.0        3.5       1.0  Iris-versicolor  False\n",
            "80         5.5       2.4        3.8       1.1  Iris-versicolor  False\n",
            "100        6.3       3.3        6.0       2.5   Iris-virginica   True\n",
            "120        6.9       3.2        5.7       2.3   Iris-virginica   True\n",
            "140        6.7       3.1        5.6       2.4   Iris-virginica   True\n"
          ],
          "name": "stdout"
        }
      ]
    },
    {
      "cell_type": "code",
      "metadata": {
        "id": "_8PSqWQhRiFs",
        "colab_type": "code",
        "colab": {
          "base_uri": "https://localhost:8080/",
          "height": 34
        },
        "outputId": "c45c5e82-e960-4c01-c788-c898990dd518"
      },
      "source": [
        "from sklearn.model_selection import train_test_split\n",
        "\n",
        "### Devide the dataset into training and test dataset ###\n",
        "\n",
        "X = iris.drop(['species', 'label'], axis=1)\n",
        "X_train, X_test, y_train, y_test = train_test_split(\n",
        "    X, iris['label'], test_size=0.3, random_state=0)\n",
        "\n",
        "print(X_train.shape, X_test.shape, y_train.shape, y_test.shape)"
      ],
      "execution_count": 90,
      "outputs": [
        {
          "output_type": "stream",
          "text": [
            "(105, 4) (45, 4) (105,) (45,)\n"
          ],
          "name": "stdout"
        }
      ]
    },
    {
      "cell_type": "code",
      "metadata": {
        "id": "jLI2NxNSRiDb",
        "colab_type": "code",
        "colab": {
          "base_uri": "https://localhost:8080/",
          "height": 207
        },
        "outputId": "41e1bb93-800c-4e8d-9465-996b82bfaafe"
      },
      "source": [
        "from sklearn import linear_model\n",
        "\n",
        "##### fit model ####\n",
        "lr_model = linear_model.LogisticRegression(random_state=0).fit(X_train, y_train)\n",
        "\n",
        "print(lr_model)\n",
        "print(lr_model.coef_)\n",
        "print(lr_model.intercept_)\n",
        "print(lr_model.classes_)"
      ],
      "execution_count": 91,
      "outputs": [
        {
          "output_type": "stream",
          "text": [
            "LogisticRegression(C=1.0, class_weight=None, dual=False, fit_intercept=True,\n",
            "                   intercept_scaling=1, l1_ratio=None, max_iter=100,\n",
            "                   multi_class='warn', n_jobs=None, penalty='l2',\n",
            "                   random_state=0, solver='warn', tol=0.0001, verbose=0,\n",
            "                   warm_start=False)\n",
            "[[-1.66918252 -1.18193972  2.39506569  2.00963954]]\n",
            "[-0.97217565]\n",
            "[False  True]\n"
          ],
          "name": "stdout"
        },
        {
          "output_type": "stream",
          "text": [
            "/usr/local/lib/python3.6/dist-packages/sklearn/linear_model/logistic.py:432: FutureWarning: Default solver will be changed to 'lbfgs' in 0.22. Specify a solver to silence this warning.\n",
            "  FutureWarning)\n"
          ],
          "name": "stderr"
        }
      ]
    },
    {
      "cell_type": "code",
      "metadata": {
        "id": "gmL7j9i9Rh44",
        "colab_type": "code",
        "colab": {
          "base_uri": "https://localhost:8080/",
          "height": 408
        },
        "outputId": "1c4b4da2-f87f-45a4-f187-fa512914e5dd"
      },
      "source": [
        "#### predict ####\n",
        "pred = lr_model.predict(X_test)\n",
        "prob = lr_model.predict_proba(X_test)\n",
        "\n",
        "accuracy = sum(pred == y_test) / len(y_test)\n",
        "\n",
        "print('accuracy: ', accuracy)\n",
        "\n",
        "print(y_test[:10])\n",
        "print(pred[:10])\n",
        "print(prob[:10])"
      ],
      "execution_count": 92,
      "outputs": [
        {
          "output_type": "stream",
          "text": [
            "accuracy:  0.9555555555555556\n",
            "114     True\n",
            "62     False\n",
            "33     False\n",
            "107     True\n",
            "7      False\n",
            "100     True\n",
            "40     False\n",
            "86     False\n",
            "76     False\n",
            "71     False\n",
            "Name: label, dtype: bool\n",
            "[ True False False  True False  True False False False False]\n",
            "[[4.41459348e-02 9.55854065e-01]\n",
            " [8.80548636e-01 1.19451364e-01]\n",
            " [9.99988369e-01 1.16312153e-05]\n",
            " [1.07031153e-01 8.92968847e-01]\n",
            " [9.99912357e-01 8.76425006e-05]\n",
            " [1.78793744e-02 9.82120626e-01]\n",
            " [9.99941029e-01 5.89713401e-05]\n",
            " [8.24688831e-01 1.75311169e-01]\n",
            " [7.89553704e-01 2.10446296e-01]\n",
            " [9.06431875e-01 9.35681248e-02]]\n"
          ],
          "name": "stdout"
        }
      ]
    },
    {
      "cell_type": "code",
      "metadata": {
        "id": "NwZY-aaNevBc",
        "colab_type": "code",
        "colab": {}
      },
      "source": [
        ""
      ],
      "execution_count": 0,
      "outputs": []
    }
  ]
}